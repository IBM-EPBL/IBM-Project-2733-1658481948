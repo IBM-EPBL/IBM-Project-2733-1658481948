
# Basic Python
## 1. Split this string
s = "Hi there Sam!"
vi=s.split()
print(vi)

*`italicized text`*## 2. Use .format() to print the following string. 

### Output should be: The diameter of Earth is 12742 kilometers.
planet = "Earth"
diameter = 12742
print('The diameter of {} is {} kilometers.'.format(planet,diameter));

## 3. In this nest dictionary grab the word "hello"
d = {'k1':[1,2,3,{'tricky':['oh','man','inception',{'target':[1,2,3,'hello']}]}]}
print(d['k1'][3]["tricky"][3]['target'][3])

# Numpy
import numpy as np
## 4.1 Create an array of 10 zeros? 
## 4.2 Create an array of 10 fives?
vin=np.zeros(10)
print(vin)
y=np.ones(10)*5
print(y)
## 5. Create an array of all the even integers from 20 to 35
evn=np.arange(20,35,2)
print("Array of even integers from 25 to 35")
print(evn)
## 6. Create a 3x3 matrix with values ranging from 0 to 8
mat=np.arange(0,9).reshape((3,3))
print(mat)
## 7. Concatinate a and b 
## a = np.array([1, 2, 3]), b = np.array([4, 5, 6])
a=np.array([[1,2,3]])
b=np.array([[4,5,6]])
np.concatenate((a,b),axis=0)
# Pandas
## 8. Create a dataframe with 3 rows and 2 columns
import pandas as pd

df=pd.DataFrame()
print(df)
## 9. Generate the series of dates from 1st Jan, 2023 to 10th Feb, 2023
import datetime
tes=datetime.datetime.strptime("01-1-2023","%d-%m-%Y")
z=datetime.datetime.strptime("10-2-2023","%d-%m-%Y")
dag=pd.date_range(tes,z)
print(dag.strftime("%d-%m-%Y"))
## 10. Create 2D list to DataFrame

lists = [[1, 'aaa', 22],
         [2, 'bbb', 25],
         [3, 'ccc', 24]]
lists = [[1, 'aaa', 22], [2, 'bbb', 25], [3, 'ccc', 24]]
vi=pd.DataFrame(lists,columns=['s.no','letter','num'])
print(vi)
